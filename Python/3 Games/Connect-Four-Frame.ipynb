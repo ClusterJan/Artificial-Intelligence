{
 "cells": [
  {
   "cell_type": "markdown",
   "metadata": {},
   "source": [
    "# Connect Four"
   ]
  },
  {
   "cell_type": "markdown",
   "metadata": {},
   "source": [
    "This notebook defines the game [Connect Four](https://en.wikipedia.org/wiki/Connect_Four).\n",
    "Connect Four is played on a board of dimension $6 \\times 7$, i.e. there are $6$ rows and $7$ columns.  Instead of `Red` and `Yellow` we call the players `X` and `O`.  Player `X` starts.  Player `X` and `O` take turns to choose columns that are not yet filled.  When player `X` chooses column `c`,  the first non-empty field in column `c` is filled with an `'X'`.  Likewise, when player `O` chooses column `c`,  the first non-empty field in column `c` is filled with an `'O'`.  Rows are numbered from the bottom up, i.e. the bottom row is row $0$.  The goal of the game for player `X` is to get four consecutive `'X's` into a row, column, or diagonal line, while player `O` needs to get four consecutive `'O's` into a row, column, or diagonal line."
   ]
  },
  {
   "cell_type": "code",
   "execution_count": 1,
   "metadata": {},
   "outputs": [],
   "source": [
    "gPlayers = [ 'X', 'O' ]"
   ]
  },
  {
   "cell_type": "markdown",
   "metadata": {},
   "source": [
    "States are represented as tuples of tuples.  The game starts with an empty board.  An empty field on the board is represented as the string `' '`."
   ]
  },
  {
   "cell_type": "code",
   "execution_count": 2,
   "metadata": {},
   "outputs": [
    {
     "data": {
      "text/plain": [
       "((' ', ' ', ' ', ' ', ' ', ' ', ' '),\n",
       " (' ', ' ', ' ', ' ', ' ', ' ', ' '),\n",
       " (' ', ' ', ' ', ' ', ' ', ' ', ' '),\n",
       " (' ', ' ', ' ', ' ', ' ', ' ', ' '),\n",
       " (' ', ' ', ' ', ' ', ' ', ' ', ' '),\n",
       " (' ', ' ', ' ', ' ', ' ', ' ', ' '))"
      ]
     },
     "execution_count": 2,
     "metadata": {},
     "output_type": "execute_result"
    }
   ],
   "source": [
    "gStart = tuple( tuple(' ' for col in range(7)) for row in range(6))\n",
    "gStart"
   ]
  },
  {
   "cell_type": "code",
   "execution_count": 3,
   "metadata": {},
   "outputs": [],
   "source": [
    "def toString(State):\n",
    "    result = ''\n",
    "    for row in State:\n",
    "        line = '|'\n",
    "        for element in row:\n",
    "            if element == ' ':\n",
    "                line += '⬜|'\n",
    "            elif element == 'X':\n",
    "                line += '🔴|'\n",
    "            elif element == 'O':\n",
    "                line += '🔵|'\n",
    "        result = line + '\\n' + result\n",
    "    return result"
   ]
  },
  {
   "cell_type": "code",
   "execution_count": 4,
   "metadata": {},
   "outputs": [
    {
     "name": "stdout",
     "output_type": "stream",
     "text": [
      "|⬜|⬜|⬜|⬜|⬜|⬜|⬜|\n",
      "|⬜|⬜|⬜|⬜|⬜|⬜|⬜|\n",
      "|⬜|⬜|⬜|⬜|⬜|⬜|⬜|\n",
      "|⬜|⬜|⬜|⬜|⬜|⬜|⬜|\n",
      "|⬜|⬜|⬜|⬜|⬜|⬜|⬜|\n",
      "|⬜|⬜|⬜|⬜|⬜|⬜|⬜|\n",
      "\n"
     ]
    }
   ],
   "source": [
    "print(toString(gStart))"
   ]
  },
  {
   "cell_type": "code",
   "execution_count": 5,
   "metadata": {},
   "outputs": [
    {
     "name": "stdout",
     "output_type": "stream",
     "text": [
      "|⬜|⬜|⬜|🔵|⬜|⬜|⬜|\n",
      "|⬜|⬜|🔵|🔵|🔴|⬜|⬜|\n",
      "|⬜|⬜|🔴|🔵|🔵|🔵|⬜|\n",
      "|⬜|⬜|🔵|🔴|🔴|🔴|⬜|\n",
      "|🔴|🔵|🔴|🔵|🔴|🔵|⬜|\n",
      "|🔴|🔴|🔵|🔴|🔴|🔵|⬜|\n",
      "\n"
     ]
    }
   ],
   "source": [
    "R1 = ('X', 'X', 'O', 'X', 'X', 'O', ' ')\n",
    "R2 = ('X', 'O', 'X', 'O', 'X', 'O', ' ')\n",
    "R3 = (' ', ' ', 'O', 'X', 'X', 'X', ' ')\n",
    "R4 = (' ', ' ', 'X', 'O', 'O', 'O', ' ')\n",
    "R5 = (' ', ' ', 'O', 'O', 'X', ' ', ' ')\n",
    "R6 = (' ', ' ', ' ', 'O', ' ', ' ', ' ')\n",
    "gTestState = (R1, R2, R3, R4, R5, R6)\n",
    "print(toString(gTestState))"
   ]
  },
  {
   "cell_type": "markdown",
   "metadata": {},
   "source": [
    "The function `to_list` transforms a tuple of tuples into a list of lists."
   ]
  },
  {
   "cell_type": "code",
   "execution_count": 6,
   "metadata": {},
   "outputs": [],
   "source": [
    "def to_list(State): \n",
    "    return [list(row) for row in State]"
   ]
  },
  {
   "cell_type": "markdown",
   "metadata": {},
   "source": [
    "The function `to_tuple` transforms a list of lists into a tuple of tuples."
   ]
  },
  {
   "cell_type": "code",
   "execution_count": 7,
   "metadata": {},
   "outputs": [],
   "source": [
    "def to_tuple(State): \n",
    "    return tuple(tuple(row) for row in State)"
   ]
  },
  {
   "cell_type": "markdown",
   "metadata": {},
   "source": [
    "The function `find_empty` takes two arguments:\n",
    "- `State` is a description of the board,\n",
    "- `col`   specifies a column, i.e. it is an integer from the set $\\{0, \\cdots, 6\\}$.\n",
    "\n",
    "Given the `State` the function `find_empty(State, col)` returns the smallest $\\texttt{row} \\in \\{0, \\cdots, 5\\}$ such that \n",
    "\n",
    "```\n",
    "    State[row][col] == ' '\n",
    "```\n",
    "holds.  If the specified column is already completely filled, then instead `None` is returned."
   ]
  },
  {
   "cell_type": "code",
   "execution_count": 8,
   "metadata": {},
   "outputs": [],
   "source": [
    "def find_empty(State, col):\n",
    "    state_list = to_list(State)\n",
    "    for row in range(6):\n",
    "        if state_list[row][col] == ' ':\n",
    "            return row\n",
    "    return None"
   ]
  },
  {
   "cell_type": "markdown",
   "metadata": {},
   "source": [
    "Given a `State` and the `player` who has the next move, the function `next_states(State, player)` computes the list of states that can be reached from `State`."
   ]
  },
  {
   "cell_type": "code",
   "execution_count": 10,
   "metadata": {},
   "outputs": [],
   "source": [
    "def next_states(State, player):\n",
    "    possible_states = []\n",
    "    for col in range(7):\n",
    "        row = find_empty(State, col)\n",
    "        if row is not None:\n",
    "            state_list = to_list(State)\n",
    "            state_list[row][col] = player\n",
    "            possible_states.append(to_tuple(state_list))\n",
    "    return possible_states"
   ]
  },
  {
   "cell_type": "code",
   "execution_count": 11,
   "metadata": {},
   "outputs": [
    {
     "name": "stdout",
     "output_type": "stream",
     "text": [
      "|⬜|⬜|⬜|🔵|⬜|⬜|⬜|\n",
      "|⬜|⬜|🔵|🔵|🔴|⬜|⬜|\n",
      "|⬜|⬜|🔴|🔵|🔵|🔵|⬜|\n",
      "|🔴|⬜|🔵|🔴|🔴|🔴|⬜|\n",
      "|🔴|🔵|🔴|🔵|🔴|🔵|⬜|\n",
      "|🔴|🔴|🔵|🔴|🔴|🔵|⬜|\n",
      "\n",
      "|⬜|⬜|⬜|🔵|⬜|⬜|⬜|\n",
      "|⬜|⬜|🔵|🔵|🔴|⬜|⬜|\n",
      "|⬜|⬜|🔴|🔵|🔵|🔵|⬜|\n",
      "|⬜|🔴|🔵|🔴|🔴|🔴|⬜|\n",
      "|🔴|🔵|🔴|🔵|🔴|🔵|⬜|\n",
      "|🔴|🔴|🔵|🔴|🔴|🔵|⬜|\n",
      "\n",
      "|⬜|⬜|🔴|🔵|⬜|⬜|⬜|\n",
      "|⬜|⬜|🔵|🔵|🔴|⬜|⬜|\n",
      "|⬜|⬜|🔴|🔵|🔵|🔵|⬜|\n",
      "|⬜|⬜|🔵|🔴|🔴|🔴|⬜|\n",
      "|🔴|🔵|🔴|🔵|🔴|🔵|⬜|\n",
      "|🔴|🔴|🔵|🔴|🔴|🔵|⬜|\n",
      "\n",
      "|⬜|⬜|⬜|🔵|🔴|⬜|⬜|\n",
      "|⬜|⬜|🔵|🔵|🔴|⬜|⬜|\n",
      "|⬜|⬜|🔴|🔵|🔵|🔵|⬜|\n",
      "|⬜|⬜|🔵|🔴|🔴|🔴|⬜|\n",
      "|🔴|🔵|🔴|🔵|🔴|🔵|⬜|\n",
      "|🔴|🔴|🔵|🔴|🔴|🔵|⬜|\n",
      "\n",
      "|⬜|⬜|⬜|🔵|⬜|⬜|⬜|\n",
      "|⬜|⬜|🔵|🔵|🔴|🔴|⬜|\n",
      "|⬜|⬜|🔴|🔵|🔵|🔵|⬜|\n",
      "|⬜|⬜|🔵|🔴|🔴|🔴|⬜|\n",
      "|🔴|🔵|🔴|🔵|🔴|🔵|⬜|\n",
      "|🔴|🔴|🔵|🔴|🔴|🔵|⬜|\n",
      "\n",
      "|⬜|⬜|⬜|🔵|⬜|⬜|⬜|\n",
      "|⬜|⬜|🔵|🔵|🔴|⬜|⬜|\n",
      "|⬜|⬜|🔴|🔵|🔵|🔵|⬜|\n",
      "|⬜|⬜|🔵|🔴|🔴|🔴|⬜|\n",
      "|🔴|🔵|🔴|🔵|🔴|🔵|⬜|\n",
      "|🔴|🔴|🔵|🔴|🔴|🔵|🔴|\n",
      "\n"
     ]
    }
   ],
   "source": [
    "for ns in next_states(gTestState, 'X'):\n",
    "    print(toString(ns))"
   ]
  },
  {
   "cell_type": "markdown",
   "metadata": {},
   "source": [
    "The variable `All_Lines` collects the coordinates of all groups of four fields that are consecutive horizontally, vertically, or diagonally."
   ]
  },
  {
   "cell_type": "code",
   "execution_count": 18,
   "metadata": {},
   "outputs": [],
   "source": [
    "# horizontal lines -> -\n",
    "All_Lines  = [((row, col), (row, col+1), (row, col+2), (row, col+3))\n",
    "              for row in range(6) for col in range(4)]\n",
    "\n",
    "# vertical lines -> |\n",
    "All_Lines += [((row, col), (row+1, col), (row+2, col), (row+3, col))\n",
    "              for row in range(3) for col in range(7)]\n",
    "\n",
    "# diagonal lines -> /\n",
    "All_Lines += [((row, col), (row+1, col+1), (row+2, col+2), (row+3, col+3))\n",
    "              for row in range(3) for col in range(4)]\n",
    "\n",
    "# diagonal lines -> \\\n",
    "All_Lines += [((row, col), (row+1, col-1), (row+2, col-2), (row+3, col-3))\n",
    "              for row in range(3) for col in range(3, 7)]\n"
   ]
  },
  {
   "cell_type": "markdown",
   "metadata": {},
   "source": [
    "'The next cell should return the answer `69`."
   ]
  },
  {
   "cell_type": "code",
   "execution_count": 19,
   "metadata": {},
   "outputs": [
    {
     "data": {
      "text/plain": [
       "69"
      ]
     },
     "execution_count": 19,
     "metadata": {},
     "output_type": "execute_result"
    }
   ],
   "source": [
    "len(All_Lines)"
   ]
  },
  {
   "cell_type": "markdown",
   "metadata": {},
   "source": [
    "Given a `State` the function `top_line_filled(State)` checks whether all marks in the top line of the given board are filled."
   ]
  },
  {
   "cell_type": "code",
   "execution_count": 22,
   "metadata": {},
   "outputs": [],
   "source": [
    "def top_line_filled(State):\n",
    "    return all(State[0][col] != ' ' for col in range(7))"
   ]
  },
  {
   "cell_type": "markdown",
   "metadata": {},
   "source": [
    "The function `utility` takes one argument:\n",
    "- `State` is a tuple of tuples representing the board.\n",
    " \n",
    "The function returns `1` if player `X` has won the game, `-1` if player `O` has won the game, `0` if its a draw, and `None` if the game has not yet been decided."
   ]
  },
  {
   "cell_type": "code",
   "execution_count": 23,
   "metadata": {},
   "outputs": [],
   "source": [
    "def utility(State):\n",
    "    for line in All_Lines:\n",
    "        if all(State[row][col] == 'X' for row, col in line):\n",
    "            return 1\n",
    "        if all(State[row][col] == 'O' for row, col in line):\n",
    "            return -1\n",
    "    if top_line_filled(State):\n",
    "        return 0\n",
    "    return None"
   ]
  },
  {
   "cell_type": "markdown",
   "metadata": {},
   "source": [
    "The function heuristic tries to guess the value of a state.  Every three `X`'s in a line that can still be extended to four in a line are counted as `+1/10`, and every two `X`'s in a line that can be extended to four in a line are counted as `+1/100`.  Likewise, three `O`'s in a line count as `-1/10` and two `O`'s count as `-1/100`."
   ]
  },
  {
   "cell_type": "code",
   "execution_count": 25,
   "metadata": {},
   "outputs": [],
   "source": [
    "def heuristic(State):\n",
    "    result = 0.0\n",
    "\n",
    "    # check for lines of length 3\n",
    "    for line in All_Lines:\n",
    "        count = 0\n",
    "        for row, col in line:\n",
    "            if State[row][col] == 'X':\n",
    "                count += 1\n",
    "            elif State[row][col] == 'O':\n",
    "                count -= 1\n",
    "        if count == 3:\n",
    "            result += 1/10\n",
    "        elif count == -3:\n",
    "            result -= 1/10\n",
    "\n",
    "    # check for lines of length 2\n",
    "    for line in All_Lines:\n",
    "        count = 0\n",
    "        for row, col in line:\n",
    "            if State[row][col] == 'X':\n",
    "                count += 1\n",
    "            elif State[row][col] == 'O':\n",
    "                count -= 1\n",
    "        if count == 2:\n",
    "            result += 1/100\n",
    "        elif count == -2:\n",
    "            result -= 1/100\n",
    "\n",
    "    return result"
   ]
  },
  {
   "cell_type": "code",
   "execution_count": 26,
   "metadata": {},
   "outputs": [
    {
     "data": {
      "text/plain": [
       "0.19"
      ]
     },
     "execution_count": 26,
     "metadata": {},
     "output_type": "execute_result"
    }
   ],
   "source": [
    "heuristic(gTestState)"
   ]
  },
  {
   "cell_type": "markdown",
   "metadata": {},
   "source": [
    "`finished(State)` is `True` if the game is over."
   ]
  },
  {
   "cell_type": "code",
   "execution_count": 28,
   "metadata": {},
   "outputs": [],
   "source": [
    "def finished(State):\n",
    "    return utility(State) is not None"
   ]
  },
  {
   "cell_type": "markdown",
   "metadata": {},
   "source": [
    "The function `get_move` asks the user to input a move in the format `r,c` where `r` is the row and the `c` is the column where the next symbol is to be placed."
   ]
  },
  {
   "cell_type": "code",
   "execution_count": 29,
   "metadata": {},
   "outputs": [],
   "source": [
    "def get_move(State):\n",
    "    State = to_list(State)\n",
    "    while True:\n",
    "        col = input(\"Enter column here: \")\n",
    "        col = int(col)\n",
    "        row = find_empty(State, col)\n",
    "        if row != None:\n",
    "            State[row][col] = 'O'\n",
    "            return to_tuple(State)\n",
    "        else:\n",
    "            print(\"Don't cheat.  Please try again.\")           "
   ]
  },
  {
   "cell_type": "markdown",
   "metadata": {},
   "source": [
    "This function informs the user about the result of the game once the game is finished."
   ]
  },
  {
   "cell_type": "code",
   "execution_count": 30,
   "metadata": {},
   "outputs": [],
   "source": [
    "def final_msg(State):\n",
    "    if finished(State):\n",
    "        if utility(State) == -1:\n",
    "            print(\"You have won!\")\n",
    "        elif utility(State) == 1:\n",
    "            print(\"You have lost!\")\n",
    "        else:\n",
    "            print(\"It's a draw.\");\n",
    "        return True\n",
    "    return False"
   ]
  },
  {
   "cell_type": "code",
   "execution_count": null,
   "metadata": {},
   "outputs": [],
   "source": []
  }
 ],
 "metadata": {
  "kernelspec": {
   "display_name": "Python 3",
   "language": "python",
   "name": "python3"
  },
  "language_info": {
   "codemirror_mode": {
    "name": "ipython",
    "version": 3
   },
   "file_extension": ".py",
   "mimetype": "text/x-python",
   "name": "python",
   "nbconvert_exporter": "python",
   "pygments_lexer": "ipython3",
   "version": "3.6.6+"
  },
  "toc": {
   "base_numbering": 1,
   "nav_menu": {},
   "number_sections": true,
   "sideBar": true,
   "skip_h1_title": false,
   "title_cell": "Table of Contents",
   "title_sidebar": "Contents",
   "toc_cell": false,
   "toc_position": {},
   "toc_section_display": true,
   "toc_window_display": false
  },
  "varInspector": {
   "cols": {
    "lenName": 16,
    "lenType": 16,
    "lenVar": 40
   },
   "kernels_config": {
    "python": {
     "delete_cmd_postfix": "",
     "delete_cmd_prefix": "del ",
     "library": "var_list.py",
     "varRefreshCmd": "print(var_dic_list())"
    },
    "r": {
     "delete_cmd_postfix": ") ",
     "delete_cmd_prefix": "rm(",
     "library": "var_list.r",
     "varRefreshCmd": "cat(var_dic_list()) "
    }
   },
   "types_to_exclude": [
    "module",
    "function",
    "builtin_function_or_method",
    "instance",
    "_Feature"
   ],
   "window_display": false
  }
 },
 "nbformat": 4,
 "nbformat_minor": 2
}
